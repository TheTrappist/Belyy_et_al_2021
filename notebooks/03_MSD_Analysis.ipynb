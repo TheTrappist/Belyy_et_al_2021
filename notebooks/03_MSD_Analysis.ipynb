{
 "cells": [
  {
   "cell_type": "markdown",
   "metadata": {},
   "source": [
    "### Set user-defined parameters"
   ]
  },
  {
   "cell_type": "code",
   "execution_count": null,
   "metadata": {},
   "outputs": [],
   "source": [
    "### Set user-defined parameters for analysis ###\n",
    "\n",
    "# Point the settings file to JSON file with analysis parameters.\n",
    "# This path (and others in this notebook) can be relative or absolute.\n",
    "#settings_file = '../data/analysis_settings/2021_12_03_reviewerExpts.json'\n",
    "settings_file = '../data/analysis_settings/FigXX_HaloTagControls_Diffusion_test.json'\n",
    "\n",
    "# Set plotting and figure saving params\n",
    "plot_figs = True\n",
    "plot_all_tracks = False # warning - takes forever!\n",
    "save_figs = True # Save output figures\n",
    "save_data = True # Save filtered tracks to see which ones were identified as correlated.\n",
    "\n",
    "plot_settings = '../src/plotting_settings.py' # File containing matplotlib settings\n",
    "save_dir_reports = '../reports/figures' # Base directory for saving figures"
   ]
  },
  {
   "cell_type": "markdown",
   "metadata": {},
   "source": [
    "### Load modules and data"
   ]
  },
  {
   "cell_type": "code",
   "execution_count": null,
   "metadata": {},
   "outputs": [],
   "source": [
    "### Load modules ###\n",
    "\n",
    "# Uncomment the following two lines for debugging\n",
    "%load_ext autoreload\n",
    "%autoreload 2\n",
    "\n",
    "# Import general Python modules\n",
    "import os, sys, inspect\n",
    "import matplotlib\n",
    "import matplotlib.pylab as plt\n",
    "import numpy as np\n",
    "import math\n",
    "import pandas as pd\n",
    "import seaborn as sns\n",
    "\n",
    "# Add source code directory (src) to path to enable user module import\n",
    "module_dir = '../src'\n",
    "os.sys.path.insert(0, module_dir)\n",
    "\n",
    "# Import user modules from source code directory\n",
    "import parse_trackmate as pt\n",
    "import correlation_analysis as corr\n",
    "import diffusion as dif"
   ]
  },
  {
   "cell_type": "code",
   "execution_count": null,
   "metadata": {},
   "outputs": [],
   "source": [
    "### Load the JSON settings file that specifies analysis details ###\n",
    "# Note: for diffusion analysis, the JSON settings file must contain\n",
    "# the following keys: 'diff_dim', 'min_averages_for_msd', 'dc_fit_nframes',\n",
    "# and \"frame_interval_sec\" (the latter is in seconds)\n",
    "\n",
    "conditions, params = corr.read_analysis_params(settings_file, \n",
    "                                               save_dir_reports, \n",
    "                                               print_summary=True)\n",
    "\n",
    "# Parse the analysis settings specific to MSD analysis\n",
    "diff_dim = params['raw_json']['diff_dim']\n",
    "min_averages_for_msd = params['raw_json']['min_averages_for_msd']\n",
    "dc_fit_nframes = params['raw_json']['dc_fit_nframes']\n",
    "frame_interval = params['raw_json']['frame_interval_sec']\n",
    "\n",
    "print(diff_dim, min_averages_for_msd, dc_fit_nframes, frame_interval)"
   ]
  },
  {
   "cell_type": "code",
   "execution_count": null,
   "metadata": {},
   "outputs": [],
   "source": [
    "### Set up figure save directories and load plotting style ###\n",
    "\n",
    "save_dir = params['save_dir']\n",
    "save_dir_data = params['save_dir_data']\n",
    "\n",
    "if save_figs: # Save figure files\n",
    "    %matplotlib\n",
    "    %run $plot_settings save_large\n",
    "    \n",
    "    # Make directories for saving figures\n",
    "    dir_sum_figs = os.path.join(save_dir, 'summary_figures')\n",
    "    dir_examples = os.path.join(save_dir, 'examples') \n",
    "    if not os.path.exists(save_dir):\n",
    "        os.makedirs(save_dir)\n",
    "    if not os.path.exists(dir_sum_figs):\n",
    "        os.makedirs(dir_sum_figs)\n",
    "    if not os.path.exists(dir_examples):\n",
    "        os.makedirs(dir_examples)    \n",
    "else: # Plot interactively\n",
    "    %matplotlib\n",
    "    %run $plot_settings plot_only\n",
    "    \n",
    "if save_data: # Save filtered TrackMate trajectories\n",
    "    if not os.path.exists(save_dir_data):\n",
    "        os.makedirs(save_dir_data)"
   ]
  },
  {
   "cell_type": "code",
   "execution_count": null,
   "metadata": {},
   "outputs": [],
   "source": [
    "### Parse track data from TrackMate xml files into Pandas dataframes ###\n",
    "\n",
    "data_parsed = {} # List of dataframes, one dataframe per condition\n",
    "for condition in conditions:\n",
    "    print(\"Now processing condition: \" + condition)\n",
    "    data_parsed[condition] = pt.read_2color_data(conditions[condition],\n",
    "                                    do_int_analysis=params['do_int_analysis'],\n",
    "                                    int_settings=params['int_settings'])\n",
    "print('Done parsing. Data loading is now complete.')"
   ]
  },
  {
   "cell_type": "markdown",
   "metadata": {},
   "source": [
    "## Function definitions for MSD analysis"
   ]
  },
  {
   "cell_type": "code",
   "execution_count": null,
   "metadata": {},
   "outputs": [],
   "source": [
    "# Defines a function that can take in the movies and return track trajectories in the form of coordinates within\n",
    "# pandas dataframe corresponding to each channel.\n",
    "\n",
    "def get_movie_data_both_channels(data, movie_ID):\n",
    "    print(\"Processing movie:\", movie_ID)\n",
    "    \n",
    "    # Get indices of the movies of both colors, denoted by C1 and C2\n",
    "    movie_idx = data['movie_ID'] == movie_ID\n",
    "    idx_C1 = data.index[movie_idx & (data['color'] == 'C1')]\n",
    "    idx_C2 = data.index[movie_idx & (data['color'] == 'C2')]\n",
    "    \n",
    "    # Locate data for each color of the current movie\n",
    "    df_C1 = data.loc[idx_C1, 'parsed'].iat[0]\n",
    "    df_C2 = data.loc[idx_C2, 'parsed'].iat[0]\n",
    "    \n",
    "    # Locate corresponding file names and paths\n",
    "    filename_C1 = data.loc[idx_C1, 'file_name'].iat[0]\n",
    "    file_path_C1 = data.loc[idx_C1, 'file_path'].iat[0]\n",
    "    filename_C2 = data.loc[idx_C2, 'file_name'].iat[0]\n",
    "    file_path_C2 = data.loc[idx_C2, 'file_path'].iat[0]\n",
    "    \n",
    "    names_paths = {'name_C1' : filename_C1, 'path_C1' : file_path_C1,\n",
    "                    'name_C2' : filename_C1, 'path_C2' : file_path_C2}\n",
    "    \n",
    "    return df_C1, df_C2, names_paths\n",
    "\n",
    "# Define a function to pool the tracks in a channel\n",
    "\n",
    "def pool_tracks(channel_dat):\n",
    "    channel_tracks = []\n",
    "    cols = ['x', 'y', 't']\n",
    "    for i in range(0, max(channel_dat['track_ID'])):\n",
    "        track = np.array(channel_dat[channel_dat['track_ID'] == i][cols])\n",
    "        channel_tracks.append(track)\n",
    "    return channel_tracks\n",
    "\n",
    "# Define function to calculate MSD for each track and fit to a\n",
    "# diffusion coefficient.\n",
    "\n",
    "def calculate_msd(tracks, frame_interval):\n",
    "    \n",
    "    d = []\n",
    "    for track in tracks:\n",
    "        len_track = np.shape(track)[0]\n",
    "        if len_track < (dc_fit_nframes * min_averages_for_msd):\n",
    "            continue\n",
    "\n",
    "        # Break up the track into sub-trajectories for MSD calc'n\n",
    "        track_chunks = []\n",
    "        n_chunks = int(np.floor(len_track / dc_fit_nframes))\n",
    "        for i in range(n_chunks):\n",
    "            start_slice = i * dc_fit_nframes\n",
    "            end_slice = start_slice + dc_fit_nframes\n",
    "            chunk = track[start_slice:end_slice, :]\n",
    "            track_chunks.append(chunk)\n",
    "\n",
    "        # Get the data\n",
    "        t_dsq, msd_data = dif.calc_msd(track_chunks, frame_interval)\n",
    "\n",
    "        time, mean_dsq, std_dsq, sterr_dsq = msd_data\n",
    "\n",
    "        # Fit to get the diffusion coefficient\n",
    "        fit_params = dif.fit_diffusion_const(msd_data, dim = diff_dim,\n",
    "                                            nframes = dc_fit_nframes)\n",
    "\n",
    "        d.append({'Track_ID':i, 'Diff_const':fit_params['dc']})\n",
    "\n",
    "\n",
    "    data = pd.DataFrame(d)\n",
    "    \n",
    "    return data\n"
   ]
  },
  {
   "cell_type": "code",
   "execution_count": null,
   "metadata": {},
   "outputs": [],
   "source": [
    "# Define a function for calculating the MSD for particles in \n",
    "# each channel for each movie in each condition\n",
    "\n",
    "def get_condition_msd(all_data, condition):\n",
    "    data = all_data[condition]\n",
    "    \n",
    "    condition_msd = []\n",
    "    movie_counter = 1\n",
    "    for movie in data:\n",
    "        print('Now processing movie:', str(movie_counter))\n",
    "        movie_counter += 1\n",
    "        movie_msd = []\n",
    "        channel_counter = 1\n",
    "        for channel in movie:\n",
    "            print('Now processing channel:', str(channel_counter))\n",
    "            channel_counter += 1\n",
    "            channel_tracks = pool_tracks(channel)\n",
    "            msd_dat = calculate_msd(channel_tracks, frame_interval)\n",
    "            movie_msd.append(msd_dat)\n",
    "        condition_msd.append(movie_msd)\n",
    "    print('Processing finished!')\n",
    "    return condition_msd"
   ]
  },
  {
   "cell_type": "markdown",
   "metadata": {},
   "source": [
    "## Data formatting and MSD calculation"
   ]
  },
  {
   "cell_type": "code",
   "execution_count": null,
   "metadata": {},
   "outputs": [],
   "source": [
    "# Format the data in an accessible manner - this will be a dictionary that has the condition as keys. The \n",
    "# values are lists that contains coordinate information for each channel in the movie.\n",
    "all_dat = dict()\n",
    "for condition in conditions:\n",
    "    all_dat[condition] = list()\n",
    "    condition_dat = data_parsed[condition]\n",
    "    for movie_id in condition_dat['movie_ID'].unique():\n",
    "        df_C1, df_C2, names_paths = get_movie_data_both_channels(condition_dat,\n",
    "                                                                movie_id)\n",
    "        all_dat[condition].append([df_C1, df_C2])\n",
    "        "
   ]
  },
  {
   "cell_type": "code",
   "execution_count": null,
   "metadata": {},
   "outputs": [],
   "source": [
    "# Similar to the code block above, this code block will give you a dictionary that uses the condition as the keys.\n",
    "# The values will be a list containing the MSDs of particles associated with a treatment condition. This code block\n",
    "# takes a while, especially if you are pooling datasets.\n",
    "\n",
    "condition_msds = dict()\n",
    "for condition in conditions:\n",
    "    print('Now processing:', condition)\n",
    "    condition_msds[condition] = get_condition_msd(all_dat, condition)\n",
    "print('Really finished')"
   ]
  },
  {
   "cell_type": "code",
   "execution_count": null,
   "metadata": {},
   "outputs": [],
   "source": [
    "# Appends the \"condition\" column to the current dataframe to allow for subsequent subsetting/slicing of data\n",
    "def append_condition(condition_channel_df, condition, channel):\n",
    "    condition_list = list()\n",
    "    channel_list = list()\n",
    "    for i in range(0, len(condition_channel_df)):\n",
    "        condition_list.append(condition)\n",
    "        if channel == 0:\n",
    "            channel_list.append('Green')\n",
    "        elif channel == 1:\n",
    "            channel_list.append('Red')\n",
    "    condition_channel_df['Condition'] = condition_list\n",
    "    condition_channel_df['Channel'] = channel_list\n",
    "    return condition_channel_df"
   ]
  },
  {
   "cell_type": "markdown",
   "metadata": {},
   "source": [
    "## Data formatting"
   ]
  },
  {
   "cell_type": "code",
   "execution_count": null,
   "metadata": {},
   "outputs": [],
   "source": [
    "# Code block for making a Pandas dataframe suitable for plotting violin plots.\n",
    "master_df = pd.DataFrame()\n",
    "for condition in conditions:\n",
    "    for movie in condition_msds[condition]:\n",
    "        for channel in range(0, len(movie)):\n",
    "            master_df = master_df.append(append_condition(movie[channel], \n",
    "                                                          condition, \n",
    "                                                          channel))"
   ]
  },
  {
   "cell_type": "code",
   "execution_count": null,
   "metadata": {},
   "outputs": [],
   "source": [
    "# Optional code block for seeing the MSDs in log10 scale\n",
    "log_dc = list()\n",
    "dc_10 = list()\n",
    "for index, row in master_df.iterrows():\n",
    "    log_dc.append(np.log10(row['Diff_const']))\n",
    "    dc_10.append(np.power(10, row['Diff_const']))\n",
    "master_df['log10_DC'] = log_dc\n",
    "master_df['DC_10'] = dc_10"
   ]
  },
  {
   "cell_type": "markdown",
   "metadata": {},
   "source": [
    "## Data Visualization"
   ]
  },
  {
   "cell_type": "code",
   "execution_count": null,
   "metadata": {},
   "outputs": [],
   "source": [
    "# Create a violin plot that splits into red or green channels\n",
    "ax = sns.violinplot(x = 'Condition', \n",
    "                    y = 'log10_DC', data = master_df,\n",
    "                    hue = master_df.Channel, split = True, cut = 0,\n",
    "                   palette=['green', 'red'])\n",
    "ax.set_title('Diffusion Constants of IRE1 Molecules in CL-VB-69.4 Cells')\n",
    "ax.set_ylabel('Diffusion Constant')\n",
    "ax.set_xlabel('Conditions')\n",
    "ax.axhline(0.1, linestyle = '--', color = 'black')\n",
    "#ax.set_yscale(\"log\")\n",
    "\n",
    "plt.show()"
   ]
  },
  {
   "cell_type": "code",
   "execution_count": null,
   "metadata": {},
   "outputs": [],
   "source": [
    "# Differences across conditions, regardless of spot channel\n",
    "\n",
    "fig2 = plt.figure()\n",
    "\n",
    "ax = sns.violinplot(x = 'Condition', \n",
    "                    y = 'log10_DC', data = master_df, cut = 0, color = 'steelblue')\n",
    "ax.set_title('MSD of Correlated Tracks in Green Channel')\n",
    "ax.set_ylabel('Diffusion Constant')\n",
    "ax.set_xlabel('Conditions')\n",
    "ax.axhline(0.1, linestyle = '--', color = 'black')\n",
    "#ax.set_yscale(\"log\")\n",
    "\n",
    "\n",
    "plt.show()"
   ]
  },
  {
   "cell_type": "markdown",
   "metadata": {},
   "source": [
    "### To-do: write a script somewhere that can output filtered TrackMate files depending on some minimal or maximal value of MSD."
   ]
  }
 ],
 "metadata": {
  "kernelspec": {
   "display_name": "Python 3",
   "language": "python",
   "name": "python3"
  },
  "language_info": {
   "codemirror_mode": {
    "name": "ipython",
    "version": 3
   },
   "file_extension": ".py",
   "mimetype": "text/x-python",
   "name": "python",
   "nbconvert_exporter": "python",
   "pygments_lexer": "ipython3",
   "version": "3.7.4"
  }
 },
 "nbformat": 4,
 "nbformat_minor": 4
}
