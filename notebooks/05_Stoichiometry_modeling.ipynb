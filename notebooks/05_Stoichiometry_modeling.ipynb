{
 "cells": [
  {
   "cell_type": "markdown",
   "metadata": {},
   "source": [
    "This notebook implements a simple probabilistic model for estimating average complex stoichiometries from previosuly calculated fractions of correlated trajectories."
   ]
  },
  {
   "cell_type": "code",
   "execution_count": null,
   "metadata": {},
   "outputs": [],
   "source": [
    "# Load CSV file with 1x, 2x, and 4x HaloTag standards\n",
    "# (output of the stoichiometry analysis notebook)\n",
    "\n",
    "# Location of the CSV results file\n",
    "results_file = '../reports/figures/Fig2sup1_GST_dimer_rev1/summary_figures/Correlations_results.csv'\n",
    "# Column in the results file that stores the fraction of correlated trajectories\n",
    "metric = 'frac_corr_C1'\n",
    "# Column in the results file that stores the condition name\n",
    "condition = 'Condition'\n",
    "# Dictionary of condition names for HaloTag standards of specific stoichiometry\n",
    "standards = {1:'HaloTag-1x',\n",
    "            2:'HaloTag-2x-tandem',\n",
    "            4:'HaloTag_4x'}\n",
    "\n",
    "\n",
    "plot_settings = '../src/plotting_settings.py' # File containing matplotlib settings\n",
    "save_figs = False"
   ]
  },
  {
   "cell_type": "code",
   "execution_count": null,
   "metadata": {},
   "outputs": [],
   "source": [
    "# Import modules and set up plotting\n",
    "import os\n",
    "import matplotlib.pyplot as plt\n",
    "import numpy as np\n",
    "import scipy.stats as st\n",
    "import pandas as pd\n",
    "from scipy.optimize import curve_fit, brentq\n",
    "\n",
    "if save_figs: # Save figure files\n",
    "    %matplotlib\n",
    "    %run $plot_settings save_large\n",
    "      \n",
    "else: # Plot interactively\n",
    "    %matplotlib\n",
    "    %run $plot_settings plot_only"
   ]
  },
  {
   "cell_type": "code",
   "execution_count": null,
   "metadata": {},
   "outputs": [],
   "source": [
    "# Load data file\n",
    "data = pd.read_csv(results_file)\n",
    "save_dir = os.path.dirname(results_file)\n",
    "\n",
    "#print(data)"
   ]
  },
  {
   "cell_type": "code",
   "execution_count": null,
   "metadata": {},
   "outputs": [],
   "source": [
    "# Process and plot data\n",
    "\n",
    "data_stats= data.groupby(condition)[metric].agg([np.mean, np.std, st.sem])\n",
    "\n",
    "to_plot = pd.DataFrame()\n",
    "for n, name in standards.items():\n",
    "    row = data_stats.loc[name]\n",
    "    row['n'] = n\n",
    "    to_plot=to_plot.append(row)\n",
    "    \n",
    "fig,ax = plt.subplots() \n",
    "ax.errorbar(to_plot['n'], to_plot['mean'],yerr=to_plot['sem'], fmt='_', capsize=2)\n",
    "\n",
    "print(data_stats)"
   ]
  },
  {
   "cell_type": "code",
   "execution_count": null,
   "metadata": {},
   "outputs": [],
   "source": [
    "# Estimate labeling efficiency\n",
    "def f_obs (n, PL, y_offset):\n",
    "    \"\"\"Fraction of observed correlated trajectories\"\"\"\n",
    "    numerator = 1-np.power((1-PL),n)-np.power((1-PL),n)+np.power((1-2*PL),n)\n",
    "    denominator = 1-np.power((1-2*PL),n)\n",
    "    ratio = numerator / denominator\n",
    "    # Apply offset\n",
    "    ratio_scaled = ratio * (1-y_offset)\n",
    "    result = ratio_scaled + y_offset\n",
    "    return result\n",
    "\n",
    "# Fit PL and y_offset parameters to data\n",
    "popt, _ = curve_fit(f_obs, to_plot['n'], to_plot['mean'], p0=[0.2,0.0])\n",
    "\n",
    "label_eff = popt[0]\n",
    "y_offset = popt[1]\n",
    "print(label_eff, y_offset)"
   ]
  },
  {
   "cell_type": "code",
   "execution_count": null,
   "metadata": {},
   "outputs": [],
   "source": [
    "f_obs_vect = np.vectorize(f_obs)\n",
    "\n",
    "n_values = np.linspace(1,16, 100)\n",
    "y_values = f_obs_vect(n_values, label_eff, y_offset)\n",
    "ax.plot(n_values,y_values)\n",
    "\n",
    "ax.set_ylabel('Fraction of correlated trajectories')\n",
    "ax.set_xlabel('Oligomer size (# of HaloTag proteins)')\n",
    "ax.set_xlim([0, max(n_values)])\n",
    "ax.set_ylim([0,1])\n",
    "\n",
    "if save_figs:\n",
    "    fig_name = 'Stoichiometry_plot'\n",
    "    fig_path = os.path.join(save_dir, fig_name+'.pdf')\n",
    "    fig.savefig(fig_path)\n"
   ]
  },
  {
   "cell_type": "code",
   "execution_count": null,
   "metadata": {},
   "outputs": [],
   "source": [
    "# Solve the labeling efficiency equation to estimate n from a specific f_obs\n",
    "\n",
    "# Change the value below to estimate the corresponding oligomeric state\n",
    "experimental_f_obs = 0.13\n",
    "\n",
    "def f_obs_solve (n, PL, y_offset, y_val):\n",
    "    \"\"\"Fraction of observed correlated trajectories with y subtracted\"\"\"\n",
    "    numerator = 1-np.power((1-PL),n)-np.power((1-PL),n)+np.power((1-2*PL),n)\n",
    "    denominator = 1-np.power((1-2*PL),n)\n",
    "    ratio = numerator / denominator\n",
    "    # Apply offset\n",
    "    ratio_scaled = ratio * (1-y_offset)\n",
    "    result = ratio_scaled + y_offset - y_val\n",
    "    return result\n",
    "\n",
    "\n",
    "a = brentq(f_obs_solve, 0.75, 20, args=((label_eff, y_offset,experimental_f_obs)))\n",
    "print(a)\n"
   ]
  },
  {
   "cell_type": "code",
   "execution_count": null,
   "metadata": {},
   "outputs": [],
   "source": []
  }
 ],
 "metadata": {
  "kernelspec": {
   "display_name": "Python 3",
   "language": "python",
   "name": "python3"
  },
  "language_info": {
   "codemirror_mode": {
    "name": "ipython",
    "version": 3
   },
   "file_extension": ".py",
   "mimetype": "text/x-python",
   "name": "python",
   "nbconvert_exporter": "python",
   "pygments_lexer": "ipython3",
   "version": "3.8.5"
  }
 },
 "nbformat": 4,
 "nbformat_minor": 4
}
