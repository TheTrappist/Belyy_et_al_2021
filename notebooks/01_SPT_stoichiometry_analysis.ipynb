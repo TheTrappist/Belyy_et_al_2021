{
 "cells": [
  {
   "cell_type": "markdown",
   "metadata": {
    "collapsed": true
   },
   "source": [
    "## Correlated trajectory analysis for dual-color single-particle data\n",
    "\n",
    "This notebook takes the tracks of diffusing molecules in two channels and calculates the fraction of trajectories that are correlated between the channels, which can in turn be used to estimate the oligomeric state of diffusing molecules."
   ]
  },
  {
   "cell_type": "markdown",
   "metadata": {},
   "source": [
    "### Set user-defined parameters"
   ]
  },
  {
   "cell_type": "code",
   "execution_count": null,
   "metadata": {},
   "outputs": [],
   "source": [
    "### Set user-defined parameters for analysis ###\n",
    "\n",
    "# Point the settings file to JSON file with analysis parameters.\n",
    "# This path (and others in this notebook) can be relative or absolute.\n",
    "#settings_file = '../data/analysis_settings/2021_12_03_reviewerExpts.json'\n",
    "#settings_file = '../data/analysis_settings/FigS1B_GST_dimer_rev1.json'\n",
    "settings_file = '../data/analysis_settings/FigXX_Labeling_Pre_Post_stress.json'\n",
    "\n",
    "# Set plotting and figure saving params\n",
    "plot_figs = True\n",
    "plot_all_tracks = False # warning - takes forever!\n",
    "save_figs = True # Save output figures\n",
    "save_data = True # Save filtered tracks to see which ones were identified as correlated.\n",
    "\n",
    "plot_settings = '../src/plotting_settings.py' # File containing matplotlib settings\n",
    "save_dir_reports = '../reports/figures' # Base directory for saving figures"
   ]
  },
  {
   "cell_type": "markdown",
   "metadata": {},
   "source": [
    "### Load modules and data"
   ]
  },
  {
   "cell_type": "code",
   "execution_count": null,
   "metadata": {},
   "outputs": [],
   "source": [
    "### Load modules ###\n",
    "\n",
    "# Uncomment the following two lines for debugging\n",
    "%load_ext autoreload\n",
    "%autoreload 2\n",
    "\n",
    "# Import general Python modules\n",
    "import os, sys, inspect\n",
    "import matplotlib\n",
    "import matplotlib.pylab as plt\n",
    "import numpy as np\n",
    "import math\n",
    "import pandas as pd\n",
    "\n",
    "# Add source code directory (src) to path to enable user module import\n",
    "module_dir = '../src'\n",
    "os.sys.path.insert(0, module_dir)\n",
    "\n",
    "# Import user modules from source code directory\n",
    "import parse_trackmate as pt\n",
    "import correlation_analysis as corr"
   ]
  },
  {
   "cell_type": "code",
   "execution_count": null,
   "metadata": {},
   "outputs": [],
   "source": [
    "### Load the JSON settings file that specifies analysis details ###\n",
    "\n",
    "conditions, params = corr.read_analysis_params(settings_file, \n",
    "                                               save_dir_reports, \n",
    "                                               print_summary=True)"
   ]
  },
  {
   "cell_type": "code",
   "execution_count": null,
   "metadata": {},
   "outputs": [],
   "source": [
    "### Set up figure save directories and load plotting style ###\n",
    "\n",
    "save_dir = params['save_dir']\n",
    "save_dir_data = params['save_dir_data']\n",
    "\n",
    "if save_figs: # Save figure files\n",
    "    %matplotlib\n",
    "    %run $plot_settings save_large\n",
    "    \n",
    "    # Make directories for saving figures\n",
    "    dir_sum_figs = os.path.join(save_dir, 'summary_figures')\n",
    "    dir_examples = os.path.join(save_dir, 'examples') \n",
    "    if not os.path.exists(save_dir):\n",
    "        os.makedirs(save_dir)\n",
    "    if not os.path.exists(dir_sum_figs):\n",
    "        os.makedirs(dir_sum_figs)\n",
    "    if not os.path.exists(dir_examples):\n",
    "        os.makedirs(dir_examples)    \n",
    "else: # Plot interactively\n",
    "    %matplotlib\n",
    "    %run $plot_settings plot_only\n",
    "    \n",
    "if save_data: # Save filtered TrackMate trajectories\n",
    "    if not os.path.exists(save_dir_data):\n",
    "        os.makedirs(save_dir_data)"
   ]
  },
  {
   "cell_type": "code",
   "execution_count": null,
   "metadata": {},
   "outputs": [],
   "source": [
    "### Parse track data from TrackMate xml files into Pandas dataframes ###\n",
    "\n",
    "data_parsed = {} # List of dataframes, one dataframe per condition\n",
    "for condition in conditions:\n",
    "    print(\"Now processing condition: \" + condition)\n",
    "    data_parsed[condition] = pt.read_2color_data(conditions[condition],\n",
    "                                    do_int_analysis=params['do_int_analysis'],\n",
    "                                    int_settings=params['int_settings'])\n",
    "print('Done parsing. Data loading is now complete.')"
   ]
  },
  {
   "cell_type": "markdown",
   "metadata": {},
   "source": [
    "### Analyze data"
   ]
  },
  {
   "cell_type": "code",
   "execution_count": null,
   "metadata": {
    "scrolled": false
   },
   "outputs": [],
   "source": [
    "### Compute correlations between trajectories of different colors ###\n",
    "\n",
    "if params['do_corr_analysis']:\n",
    "    corr_results = pd.DataFrame()\n",
    "    \n",
    "    for condition in data_parsed:\n",
    "        result = corr.corr_analysis(data_parsed[condition], params['window'], \n",
    "                        params['pcc_cutoff'], params['save_dir_data'], \n",
    "                        corr_by_window=False, plot_all_tracks=plot_all_tracks)\n",
    "        result['Condition'] = condition\n",
    "        corr_results = pd.concat([corr_results, result], ignore_index=True)\n",
    "\n",
    "print('Done')     "
   ]
  },
  {
   "cell_type": "markdown",
   "metadata": {},
   "source": [
    "### Plot and save results"
   ]
  },
  {
   "cell_type": "code",
   "execution_count": null,
   "metadata": {},
   "outputs": [],
   "source": [
    "#### Plot correlation summary and optionally save the figure and statistics ###\n",
    "cond_to_plot_1 = 'frac_corr_C1' # Parameter to plot in the first plot\n",
    "cond_to_plot_2 = 'num_tot_C1' # Parameter to plot in the second plot\n",
    "# Typical parameters are the fraction of correlated trajectories in channel 1\n",
    "# 'frac_corr_C1' and the otal number of trajectories in channel 1 'num_tot_C1'\n",
    "\n",
    "if plot_figs:\n",
    "    fig, f2 = corr.plot_correlation_results (corr_results, \n",
    "                                         plot_1=cond_to_plot_1,\n",
    "                                         plot_2=cond_to_plot_2)\n",
    "    \n",
    "# Calculate t-test statistics\n",
    "t_test_summaries = corr.pairwise_t_tests(corr_results, cond_to_plot_1)\n",
    "print(t_test_summaries)\n",
    "\n",
    "# Save figures and statistics if needed\n",
    "if save_figs:\n",
    "    fig_name = 'All_conditions_correlation'\n",
    "    data_file_name = 'All_conditions_correlation'\n",
    "    full_fig_path = os.path.join(dir_sum_figs, fig_name+'.pdf')\n",
    "    f2_path = os.path.join(dir_sum_figs, fig_name+'_linreg.pdf')\n",
    "    full_data_file_path = os.path.join(dir_sum_figs, data_file_name+'.txt')\n",
    "    fig.savefig(full_fig_path)\n",
    "    f2.savefig(f2_path)\n",
    "    \n",
    "    # Save the settings and statistics associated with this figure\n",
    "    with open(full_data_file_path, \"w\") as f:\n",
    "        if params['do_corr_analysis']:\n",
    "            f.write(\"PCC cutoff: \" + str(params['pcc_cutoff']) + '\\n')\n",
    "            f.write(\"PCC window, in frames: \" + str(params['window']) + '\\n')\n",
    "        f.writelines(t_test_summaries)"
   ]
  }
 ],
 "metadata": {
  "anaconda-cloud": {},
  "kernelspec": {
   "display_name": "Python 3",
   "language": "python",
   "name": "python3"
  },
  "language_info": {
   "codemirror_mode": {
    "name": "ipython",
    "version": 3
   },
   "file_extension": ".py",
   "mimetype": "text/x-python",
   "name": "python",
   "nbconvert_exporter": "python",
   "pygments_lexer": "ipython3",
   "version": "3.7.4"
  }
 },
 "nbformat": 4,
 "nbformat_minor": 2
}
